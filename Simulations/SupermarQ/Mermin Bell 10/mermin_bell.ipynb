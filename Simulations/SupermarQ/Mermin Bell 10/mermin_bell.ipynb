{
 "cells": [
  {
   "cell_type": "code",
   "execution_count": 5,
   "metadata": {},
   "outputs": [],
   "source": [
    "import supermarq\n",
    "import qiskit\n",
    "import qiskit_superstaq as qss\n",
    "import os\n",
    "import json"
   ]
  },
  {
   "cell_type": "code",
   "execution_count": 23,
   "metadata": {},
   "outputs": [
    {
     "name": "stdout",
     "output_type": "stream",
     "text": [
      "5.25 credits\n"
     ]
    }
   ],
   "source": [
    "api_key = \"1446224e1fed6a2d1408bf1e90180891c56dd33698d1d23e54f25044487108c2\"\n",
    "provider = qss.SuperstaqProvider(api_key)\n",
    "print(provider.get_balance())"
   ]
  },
  {
   "cell_type": "code",
   "execution_count": 21,
   "metadata": {},
   "outputs": [],
   "source": [
    "qc = supermarq.mermin_bell.MerminBell(num_qubits=10)\n",
    "qc_circuit = qc.circuit()\n",
    "\n",
    "backend = provider.get_backend(\"ss_unconstrained_simulator\")\n",
    "job_qss = backend.run(\n",
    "    supermarq.converters.cirq_to_qiskit(qc_circuit), shots=1000, method=\"dry-run\"\n",
    ")"
   ]
  },
  {
   "cell_type": "code",
   "execution_count": null,
   "metadata": {},
   "outputs": [],
   "source": [
    "job = job_qss.result()\n",
    "counts = job.get_counts()\n",
    "print(counts)\n",
    "score = qc.score(counts)\n",
    "print(score)\n",
    "\n",
    "with open('mermin_bell_counts.json', 'w', encoding='utf-8') as f:\n",
    "    json.dump(counts, f, ensure_ascii=False, indent=4)\n"
   ]
  }
 ],
 "metadata": {
  "kernelspec": {
   "display_name": "venvS",
   "language": "python",
   "name": "python3"
  },
  "language_info": {
   "codemirror_mode": {
    "name": "ipython",
    "version": 3
   },
   "file_extension": ".py",
   "mimetype": "text/x-python",
   "name": "python",
   "nbconvert_exporter": "python",
   "pygments_lexer": "ipython3",
   "version": "3.10.12"
  }
 },
 "nbformat": 4,
 "nbformat_minor": 2
}
