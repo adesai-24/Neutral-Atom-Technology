{
 "cells": [
  {
   "cell_type": "code",
   "execution_count": 32,
   "id": "279822a7",
   "metadata": {},
   "outputs": [
    {
     "name": "stderr",
     "output_type": "stream",
     "text": [
      "/tmp/ipykernel_18523/4163777135.py:66: DeprecationWarning: The function ``qiskit.execute_function.execute()`` is deprecated as of qiskit 0.46.0. It will be removed in the Qiskit 1.0 release. This function combines ``transpile`` and ``backend.run``, which is covered by ``Sampler`` :mod:`~qiskit.primitives`. Alternatively, you can also run :func:`.transpile` followed by ``backend.run()``.\n",
      "  job = execute(qc, backend, shots=x)\n"
     ]
    },
    {
     "name": "stdout",
     "output_type": "stream",
     "text": [
      "\n",
      "The average variance using probability is: 0.0006609470486864977\n",
      "The average variance using basis state converted to integers is: 349349697.42826957\n",
      "\n",
      "The average variance using probability is: 0.0006310370362807278\n",
      "The average variance using basis state converted to integers is: 360185565.12640977\n",
      "\n",
      "The average variance using probability is: 0.0006119014744727162\n",
      "The average variance using basis state converted to integers is: 359961719.5923442\n",
      "\n",
      "The average variance using probability is: 0.0006476102594976368\n",
      "The average variance using basis state converted to integers is: 359800097.9249871\n",
      "\n",
      "The average variance using probability is: 0.0006048783823861697\n",
      "The average variance using basis state converted to integers is: 361002637.47170174\n",
      "\n",
      "The average variance using probability is: 0.0006319290962134309\n",
      "The average variance using basis state converted to integers is: 361779490.73809886\n",
      "\n",
      "The average variance using probability is: 0.0006162354183537449\n",
      "The average variance using basis state converted to integers is: 364872360.78940606\n",
      "\n",
      "The average variance using probability is: 0.0006220194330666348\n",
      "The average variance using basis state converted to integers is: 360127550.5574929\n",
      "\n",
      "The average variance using probability is: 0.000621318605334689\n",
      "The average variance using basis state converted to integers is: 365239761.63553613\n",
      "\n",
      "The average variance using probability is: 0.0006264400813265459\n",
      "The average variance using basis state converted to integers is: 364669945.95079666\n"
     ]
    }
   ],
   "source": [
    "# 3/19/24 Deep Neural Network 16 qubit circuit\n",
    "# calling qiskit packages, make sure to use qiskit v0.46.0 as that is the only version that supports execute_function\n",
    "from qiskit import QuantumCircuit, Aer, execute\n",
    "import json\n",
    "import numpy as np\n",
    "\n",
    "# defining all the variables here\n",
    "Q = 16 # number of qubits\n",
    "f = 0.1 # defining predetermined frequency value\n",
    "R = 100 # Predetermined optimal atom replenishing value given by my mentor\n",
    "S = Q * R # finding number of shots a circuit needs to run in total while assuming a linear relationship between qubits and shots\n",
    "x = f * S # calculating increment proportional to total number of shots (S)\n",
    "nc = x # setting unchanging value for the loop\n",
    "time = 30 # setting the normalization value\n",
    "filename = \"dnn\" # setting universal filename to avoid having to set differently\n",
    "foldername = \"DNN 16\" # setting universal folder name to avoid having to change it anywhere else\n",
    "benchmark = \"GRAPHINE\" # setting universal benchmark name to avoid having to change it everywhere else\n",
    "bs_var_list = [] # empty list to hold all values of bs_var to see how it changes over time\n",
    "p_var_list = [] # empty list to hold all vaues of p_var to see how it changes over time\n",
    "\n",
    "\n",
    "# reading qasm file\n",
    "qc = QuantumCircuit.from_qasm_file(filename + \"_\" + str(Q) + \".qasm\")\n",
    "\n",
    "# specifying which backend we will be using\n",
    "backend = Aer.get_backend(\"statevector_simulator\")\n",
    "\n",
    "# added variance function instead of having to run it seperately\n",
    "def variance(shots, b_name, fo_name, f_name):\n",
    "    # load the output distribution from the json file\n",
    "    file_path = '/home/aadi/Documents/Neutral-Atom-Technology/Step 2/' + str(b_name) + '/' + str(fo_name) + '/' + str(f_name) + '_counts_' + str(shots) + '_shots.json' \n",
    "    with open(file_path, 'r') as file:\n",
    "        output_distribution = json.load(file)\n",
    "\n",
    "    # convert the dictionary keys to a list and probabilities to a separate list\n",
    "    states = list(output_distribution.keys())\n",
    "    probabilities = list(output_distribution.values())\n",
    "\n",
    "    # random sampling of basis states based on probability and setting them equal to a list\n",
    "    sample = np.random.choice(states, size=shots, p=probabilities)\n",
    "\n",
    "    # random sampling of the probabilites list based on probabilty and setting them equal to a list\n",
    "    prob_sample = np.random.choice(probabilities, size=shots, p=probabilities)\n",
    "\n",
    "    # change binary to ints\n",
    "    int_sample = [int(b, 2) for b in sample]\n",
    "\n",
    "    # calculating the variance and printing out the results\n",
    "    sample_var = np.var(int_sample)\n",
    "    # print(\"The sample variance is: \" + str(sample_var))\n",
    "    prob_var = np.var(prob_sample)\n",
    "    # print(\"The sample variance using probability is : \" + str(prob_var))\n",
    "    \n",
    "    return sample_var, prob_var\n",
    "\n",
    "\n",
    "# simple while loop to calculate \n",
    "while x <= S:\n",
    "    \n",
    "    bs_var = 0 # variance using basis states converted into integers\n",
    "    p_var = 0 # variance using probability \n",
    "    avg_bs_var = 0 # variable to calculate average variance of basis state \n",
    "    avg_p_var = 0 # variable to calculate average variance of proabilty\n",
    "    \n",
    "    # executing the circuit via backend\n",
    "    job = execute(qc, backend, shots=x)\n",
    "    result = job.result()\n",
    "\n",
    "    # getting statevector results \n",
    "    statevector = result.get_statevector()\n",
    "    # print(statevector)\n",
    "\n",
    "    # getting counts (output distribution) of the simulation\n",
    "    counts = result.get_counts(qc)\n",
    "\n",
    "    # printing shot number to follow along\n",
    "    # print(str(x))\n",
    "\n",
    "    # logging the counts to a json file\n",
    "    with open(filename + '_counts_' + str(int(x)) + '_shots.json', 'w', encoding='utf-8') as f:\n",
    "        json.dump(counts, f, ensure_ascii=False, indent=4)\n",
    "\n",
    "    # calculating the variance and normalizing it by running it 30 times and averaging it\n",
    "    for t in range(1, time+1):\n",
    "        temp_bs_var, temp_p_var = variance(int(x), benchmark, foldername, filename)\n",
    "        bs_var += temp_bs_var\n",
    "        p_var += temp_p_var\n",
    "        avg_bs_var = bs_var / t\n",
    "        avg_p_var = p_var / t\n",
    "        bs_var_list.append(avg_bs_var)  # adding to a list to see how  it changes\n",
    "        p_var_list.append(avg_p_var)    # adding to a list to see how it changes\n",
    "    \n",
    "    \n",
    "        \n",
    "    print(\"\\nThe average variance using probability is: \" + str(avg_p_var))\n",
    "    print(\"The average variance using basis state converted to integers is: \" + str(avg_bs_var))\n",
    "    \n",
    "    # moving up an increment\n",
    "    x += nc"
   ]
  },
  {
   "cell_type": "code",
   "execution_count": 12,
   "id": "a7b41b52",
   "metadata": {},
   "outputs": [
    {
     "name": "stdout",
     "output_type": "stream",
     "text": [
      "The sample variance is: 372046197.84436095\n",
      "The sample variance using probability is : 0.0006575078253964147\n"
     ]
    }
   ],
   "source": [
    "# 3/25/24 Deep Neural Network Statistical Analysis 1600 shots\n",
    "import numpy as np\n",
    "import json\n",
    "\n",
    "# variables defined at the beginning\n",
    "counts = 1600\n",
    "\n",
    "# load the output distribution from the json file\n",
    "file_path = '/home/aadi/Documents/Neutral-Atom-Technology/Step 2/GRAPHINE/DNN 16/dnn_counts_' + str(counts) + '_shots.json' \n",
    "with open(file_path, 'r') as file:\n",
    "    output_distribution = json.load(file)\n",
    "\n",
    "# convert the dictionary keys to a list and probabilities to a separate list\n",
    "states = list(output_distribution.keys())\n",
    "probabilities = list(output_distribution.values())\n",
    "\n",
    "# random sampling based on probability and setting them equal to a list\n",
    "sample = np.random.choice(states, size=counts, p=probabilities)\n",
    "\n",
    "prob_sample = np.random.choice(probabilities, size=counts, p=probabilities)\n",
    "\n",
    "# change binary to ints\n",
    "int_sample = [int(b, 2) for b in sample]\n",
    "\n",
    "\n",
    "# calculating the variance and printing out the results\n",
    "sample_var = np.var(int_sample)\n",
    "print(\"The sample variance is: \" + str(sample_var))\n",
    "prob_var = np.var(prob_sample)\n",
    "print(\"The sample variance using probability is : \" + str(prob_var))\n"
   ]
  }
 ],
 "metadata": {
  "kernelspec": {
   "display_name": "Python 3 (ipykernel)",
   "language": "python",
   "name": "python3"
  },
  "language_info": {
   "codemirror_mode": {
    "name": "ipython",
    "version": 3
   },
   "file_extension": ".py",
   "mimetype": "text/x-python",
   "name": "python",
   "nbconvert_exporter": "python",
   "pygments_lexer": "ipython3",
   "version": "3.10.12"
  },
  "widgets": {
   "application/vnd.jupyter.widget-state+json": {
    "state": {
     "06894bea558844e6bbc88e6d8c7fa948": {
      "model_module": "@jupyter-widgets/controls",
      "model_module_version": "2.0.0",
      "model_name": "HTMLModel",
      "state": {
       "layout": "IPY_MODEL_7c023bec3b354164b1e253c2558a04d9",
       "style": "IPY_MODEL_3750bb26c44d413b8be25b57240b08dd",
       "value": "<h5>Backend</h5>"
      }
     },
     "19855a48f3bb46e296e0b6b518c34bb0": {
      "model_module": "@jupyter-widgets/base",
      "model_module_version": "2.0.0",
      "model_name": "LayoutModel",
      "state": {
       "width": "95px"
      }
     },
     "1f1c4bfd669648e4a6ac4df4f0ca553a": {
      "model_module": "@jupyter-widgets/controls",
      "model_module_version": "2.0.0",
      "model_name": "HTMLStyleModel",
      "state": {
       "description_width": "",
       "font_size": null,
       "text_color": null
      }
     },
     "2761afc3cf3d4883b208b450f97fc67a": {
      "model_module": "@jupyter-widgets/base",
      "model_module_version": "2.0.0",
      "model_name": "LayoutModel",
      "state": {
       "grid_template_areas": "\n                                       \". . . . right \"\n                                        ",
       "grid_template_columns": "20% 20% 20% 20% 20%",
       "width": "100%"
      }
     },
     "2a278f69a09a4517b06b021e6b0af7af": {
      "model_module": "@jupyter-widgets/controls",
      "model_module_version": "2.0.0",
      "model_name": "HTMLStyleModel",
      "state": {
       "description_width": "",
       "font_size": null,
       "text_color": null
      }
     },
     "30f33a72445c469dbac16c63079bd987": {
      "model_module": "@jupyter-widgets/controls",
      "model_module_version": "2.0.0",
      "model_name": "HTMLStyleModel",
      "state": {
       "description_width": "",
       "font_size": null,
       "text_color": null
      }
     },
     "3750bb26c44d413b8be25b57240b08dd": {
      "model_module": "@jupyter-widgets/controls",
      "model_module_version": "2.0.0",
      "model_name": "HTMLStyleModel",
      "state": {
       "description_width": "",
       "font_size": null,
       "text_color": null
      }
     },
     "51784a3cfbca4605a8ebfe9dc2c7c393": {
      "model_module": "@jupyter-widgets/controls",
      "model_module_version": "2.0.0",
      "model_name": "HTMLModel",
      "state": {
       "layout": "IPY_MODEL_19855a48f3bb46e296e0b6b518c34bb0",
       "style": "IPY_MODEL_30f33a72445c469dbac16c63079bd987",
       "value": "<h5>Status</h5>"
      }
     },
     "522415886e574eae9a275125fba14dd1": {
      "model_module": "@jupyter-widgets/controls",
      "model_module_version": "2.0.0",
      "model_name": "GridBoxModel",
      "state": {
       "children": [
        "IPY_MODEL_bf18fa442c5e440bb5f52e673a5cf155"
       ],
       "layout": "IPY_MODEL_2761afc3cf3d4883b208b450f97fc67a"
      }
     },
     "52bf5b921bfc4c02a2a2a1947099b501": {
      "model_module": "@jupyter-widgets/base",
      "model_module_version": "2.0.0",
      "model_name": "LayoutModel",
      "state": {
       "grid_area": "right",
       "padding": "0px 0px 0px 0px",
       "width": "70px"
      }
     },
     "53835ce6040c4ae19e2e038380f63512": {
      "model_module": "@jupyter-widgets/base",
      "model_module_version": "2.0.0",
      "model_name": "LayoutModel",
      "state": {
       "margin": "0px 0px 0px 37px",
       "width": "600px"
      }
     },
     "773286347d0e4c39938c4fcd9d7a7759": {
      "model_module": "@jupyter-widgets/controls",
      "model_module_version": "2.0.0",
      "model_name": "HTMLModel",
      "state": {
       "layout": "IPY_MODEL_eaa69b8a351c4f11a36053a5d5107e55",
       "style": "IPY_MODEL_2a278f69a09a4517b06b021e6b0af7af",
       "value": "<p style='font-family: IBM Plex Sans, Arial, Helvetica, sans-serif; font-size: 20px; font-weight: medium;'>Circuit Properties</p>"
      }
     },
     "7c023bec3b354164b1e253c2558a04d9": {
      "model_module": "@jupyter-widgets/base",
      "model_module_version": "2.0.0",
      "model_name": "LayoutModel",
      "state": {
       "width": "145px"
      }
     },
     "8323dbc4308041c191136400642e4a4c": {
      "model_module": "@jupyter-widgets/controls",
      "model_module_version": "2.0.0",
      "model_name": "HTMLModel",
      "state": {
       "layout": "IPY_MODEL_dd316334b75144938120f57729f23782",
       "style": "IPY_MODEL_c259879d884843b59c4d0e5726a0cbc1",
       "value": "<h5>Job ID</h5>"
      }
     },
     "8af026560ff14712bc438751ed86e2b6": {
      "model_module": "@jupyter-widgets/controls",
      "model_module_version": "2.0.0",
      "model_name": "HBoxModel",
      "state": {
       "children": [
        "IPY_MODEL_8323dbc4308041c191136400642e4a4c",
        "IPY_MODEL_06894bea558844e6bbc88e6d8c7fa948",
        "IPY_MODEL_51784a3cfbca4605a8ebfe9dc2c7c393",
        "IPY_MODEL_cb87dd120b524f8ca64acf6f3e01768b",
        "IPY_MODEL_c0a329fb215a410aa02a3743cf5ac609"
       ],
       "layout": "IPY_MODEL_53835ce6040c4ae19e2e038380f63512"
      }
     },
     "992e753ae96b48a784791ca7a24b7373": {
      "model_module": "@jupyter-widgets/base",
      "model_module_version": "2.0.0",
      "model_name": "LayoutModel",
      "state": {}
     },
     "b4a202ea7b554328ab07b3bb65b6aad0": {
      "model_module": "@jupyter-widgets/controls",
      "model_module_version": "2.0.0",
      "model_name": "HTMLStyleModel",
      "state": {
       "description_width": "",
       "font_size": null,
       "text_color": null
      }
     },
     "bf18fa442c5e440bb5f52e673a5cf155": {
      "model_module": "@jupyter-widgets/controls",
      "model_module_version": "2.0.0",
      "model_name": "ButtonModel",
      "state": {
       "button_style": "primary",
       "description": "Clear",
       "layout": "IPY_MODEL_52bf5b921bfc4c02a2a2a1947099b501",
       "style": "IPY_MODEL_e849ff13dbfb4e8788222b57b3fe48dc",
       "tooltip": null
      }
     },
     "c0a329fb215a410aa02a3743cf5ac609": {
      "model_module": "@jupyter-widgets/controls",
      "model_module_version": "2.0.0",
      "model_name": "HTMLModel",
      "state": {
       "layout": "IPY_MODEL_992e753ae96b48a784791ca7a24b7373",
       "style": "IPY_MODEL_b4a202ea7b554328ab07b3bb65b6aad0",
       "value": "<h5>Message</h5>"
      }
     },
     "c259879d884843b59c4d0e5726a0cbc1": {
      "model_module": "@jupyter-widgets/controls",
      "model_module_version": "2.0.0",
      "model_name": "HTMLStyleModel",
      "state": {
       "description_width": "",
       "font_size": null,
       "text_color": null
      }
     },
     "cb87dd120b524f8ca64acf6f3e01768b": {
      "model_module": "@jupyter-widgets/controls",
      "model_module_version": "2.0.0",
      "model_name": "HTMLModel",
      "state": {
       "layout": "IPY_MODEL_fb41d39adad744bba5669abf2c85bb22",
       "style": "IPY_MODEL_1f1c4bfd669648e4a6ac4df4f0ca553a",
       "value": "<h5>Queue</h5>"
      }
     },
     "dd316334b75144938120f57729f23782": {
      "model_module": "@jupyter-widgets/base",
      "model_module_version": "2.0.0",
      "model_name": "LayoutModel",
      "state": {
       "width": "190px"
      }
     },
     "e849ff13dbfb4e8788222b57b3fe48dc": {
      "model_module": "@jupyter-widgets/controls",
      "model_module_version": "2.0.0",
      "model_name": "ButtonStyleModel",
      "state": {
       "font_family": null,
       "font_size": null,
       "font_style": null,
       "font_variant": null,
       "font_weight": null,
       "text_color": null,
       "text_decoration": null
      }
     },
     "eaa69b8a351c4f11a36053a5d5107e55": {
      "model_module": "@jupyter-widgets/base",
      "model_module_version": "2.0.0",
      "model_name": "LayoutModel",
      "state": {
       "margin": "0px 0px 10px 0px"
      }
     },
     "fb41d39adad744bba5669abf2c85bb22": {
      "model_module": "@jupyter-widgets/base",
      "model_module_version": "2.0.0",
      "model_name": "LayoutModel",
      "state": {
       "width": "70px"
      }
     }
    },
    "version_major": 2,
    "version_minor": 0
   }
  }
 },
 "nbformat": 4,
 "nbformat_minor": 5
}
