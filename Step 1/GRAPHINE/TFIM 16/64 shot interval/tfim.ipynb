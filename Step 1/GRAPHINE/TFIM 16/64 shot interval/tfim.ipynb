{
 "cells": [
  {
   "cell_type": "code",
   "execution_count": null,
   "metadata": {},
   "outputs": [],
   "source": [
    "# 2/29/24 Transverse-Field Ising Model (TFIM) 16 qubits\n",
    "# calling qiskit packages, make sure to use qiskit v0.46.0 as that is the only version that supports execute_function\n",
    "from qiskit import QuantumCircuit, Aer, execute\n",
    "import json\n",
    "\n",
    "# setting cirucit name to avoid having to change\n",
    "name = \"tfim\"\n",
    "\n",
    "# reading qasm file\n",
    "qc = QuantumCircuit.from_qasm_file(name + \"_16.qasm\")\n",
    "\n",
    "# using statevector simulator\n",
    "backend = Aer.get_backend(\"statevector_simulator\")\n",
    "\n",
    "# setting shot increments\n",
    "x = 64\n",
    "\n",
    "# simple while loop to calculate \n",
    "while x <= 1024:\n",
    "    # actually running the circuit with the AER statevector and with the specified shot\n",
    "    job = execute(qc, backend, shots=x)\n",
    "    result = job.result()\n",
    "\n",
    "    # statevector for debugging \n",
    "    statevector = result.get_statevector()\n",
    "    print(statevector)\n",
    "\n",
    "    # getting counts\n",
    "    counts = result.get_counts(qc)\n",
    "\n",
    "    # exporting counts to json file\n",
    "    with open(name + '_counts_' + str(x) + '_shots.json', 'w', encoding='utf-8') as f:\n",
    "        json.dump(counts, f, ensure_ascii=False, indent=4)\n",
    "    \n",
    "    x += 64"
   ]
  }
 ],
 "metadata": {
  "language_info": {
   "name": "python"
  }
 },
 "nbformat": 4,
 "nbformat_minor": 2
}
