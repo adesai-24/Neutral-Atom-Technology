{
 "cells": [
  {
   "cell_type": "code",
   "execution_count": 1,
   "id": "f9804206-78ff-4062-85f0-267e06befbdd",
   "metadata": {
    "tags": []
   },
   "outputs": [
    {
     "name": "stderr",
     "output_type": "stream",
     "text": [
      "/tmp/ipykernel_29261/3306151250.py:10: DeprecationWarning: The 'qiskit.Aer' entry point is deprecated and will be removed in Qiskit 1.0. You should use 'qiskit_aer.Aer' directly instead.\n",
      "  backend = Aer.get_backend(\"statevector_simulator\")\n",
      "/tmp/ipykernel_29261/3306151250.py:21: DeprecationWarning: The function ``qiskit.execute_function.execute()`` is deprecated as of qiskit 0.46.0. It will be removed in the Qiskit 1.0 release. This function combines ``transpile`` and ``backend.run``, which is covered by ``Sampler`` :mod:`~qiskit.primitives`. Alternatively, you can also run :func:`.transpile` followed by ``backend.run()``.\n",
      "  job = execute(qc, backend, shots=x)\n"
     ]
    },
    {
     "name": "stdout",
     "output_type": "stream",
     "text": [
      "Statevector([-5.20555199e-03-5.20555199e-03j,\n",
      "             -3.90022356e-18-2.14376736e-18j,\n",
      "              1.37144113e-17+1.23220850e-17j, ...,\n",
      "             -4.06649485e-82-2.18673723e-82j,\n",
      "             -1.58591459e-82-3.38243612e-82j,\n",
      "             -2.05105395e-82-4.47567223e-82j],\n",
      "            dims=(2, 2, 2, 2, 2, 2, 2, 2, 2, 2, 2, 2, 2, 2, 2, 2, 2, 2))\n",
      "Statevector([-5.20555199e-03-5.20555199e-03j,\n",
      "             -3.90022356e-18-2.14376736e-18j,\n",
      "              1.37144113e-17+1.23220850e-17j, ...,\n",
      "             -4.06649485e-82-2.18673723e-82j,\n",
      "             -1.58591459e-82-3.38243612e-82j,\n",
      "             -2.05105395e-82-4.47567223e-82j],\n",
      "            dims=(2, 2, 2, 2, 2, 2, 2, 2, 2, 2, 2, 2, 2, 2, 2, 2, 2, 2))\n",
      "Statevector([-5.20555199e-03-5.20555199e-03j,\n",
      "             -3.90022356e-18-2.14376736e-18j,\n",
      "              1.37144113e-17+1.23220850e-17j, ...,\n",
      "             -4.06649485e-82-2.18673723e-82j,\n",
      "             -1.58591459e-82-3.38243612e-82j,\n",
      "             -2.05105395e-82-4.47567223e-82j],\n",
      "            dims=(2, 2, 2, 2, 2, 2, 2, 2, 2, 2, 2, 2, 2, 2, 2, 2, 2, 2))\n",
      "Statevector([-5.20555199e-03-5.20555199e-03j,\n",
      "             -3.90022356e-18-2.14376736e-18j,\n",
      "              1.37144113e-17+1.23220850e-17j, ...,\n",
      "             -4.06649485e-82-2.18673723e-82j,\n",
      "             -1.58591459e-82-3.38243612e-82j,\n",
      "             -2.05105395e-82-4.47567223e-82j],\n",
      "            dims=(2, 2, 2, 2, 2, 2, 2, 2, 2, 2, 2, 2, 2, 2, 2, 2, 2, 2))\n",
      "Statevector([-5.20555199e-03-5.20555199e-03j,\n",
      "             -3.90022356e-18-2.14376736e-18j,\n",
      "              1.37144113e-17+1.23220850e-17j, ...,\n",
      "             -4.06649485e-82-2.18673723e-82j,\n",
      "             -1.58591459e-82-3.38243612e-82j,\n",
      "             -2.05105395e-82-4.47567223e-82j],\n",
      "            dims=(2, 2, 2, 2, 2, 2, 2, 2, 2, 2, 2, 2, 2, 2, 2, 2, 2, 2))\n",
      "Statevector([-5.20555199e-03-5.20555199e-03j,\n",
      "             -3.90022356e-18-2.14376736e-18j,\n",
      "              1.37144113e-17+1.23220850e-17j, ...,\n",
      "             -4.06649485e-82-2.18673723e-82j,\n",
      "             -1.58591459e-82-3.38243612e-82j,\n",
      "             -2.05105395e-82-4.47567223e-82j],\n",
      "            dims=(2, 2, 2, 2, 2, 2, 2, 2, 2, 2, 2, 2, 2, 2, 2, 2, 2, 2))\n",
      "Statevector([-5.20555199e-03-5.20555199e-03j,\n",
      "             -3.90022356e-18-2.14376736e-18j,\n",
      "              1.37144113e-17+1.23220850e-17j, ...,\n",
      "             -4.06649485e-82-2.18673723e-82j,\n",
      "             -1.58591459e-82-3.38243612e-82j,\n",
      "             -2.05105395e-82-4.47567223e-82j],\n",
      "            dims=(2, 2, 2, 2, 2, 2, 2, 2, 2, 2, 2, 2, 2, 2, 2, 2, 2, 2))\n",
      "Statevector([-5.20555199e-03-5.20555199e-03j,\n",
      "             -3.90022356e-18-2.14376736e-18j,\n",
      "              1.37144113e-17+1.23220850e-17j, ...,\n",
      "             -4.06649485e-82-2.18673723e-82j,\n",
      "             -1.58591459e-82-3.38243612e-82j,\n",
      "             -2.05105395e-82-4.47567223e-82j],\n",
      "            dims=(2, 2, 2, 2, 2, 2, 2, 2, 2, 2, 2, 2, 2, 2, 2, 2, 2, 2))\n",
      "Statevector([-5.20555199e-03-5.20555199e-03j,\n",
      "             -3.90022356e-18-2.14376736e-18j,\n",
      "              1.37144113e-17+1.23220850e-17j, ...,\n",
      "             -4.06649485e-82-2.18673723e-82j,\n",
      "             -1.58591459e-82-3.38243612e-82j,\n",
      "             -2.05105395e-82-4.47567223e-82j],\n",
      "            dims=(2, 2, 2, 2, 2, 2, 2, 2, 2, 2, 2, 2, 2, 2, 2, 2, 2, 2))\n",
      "Statevector([-5.20555199e-03-5.20555199e-03j,\n",
      "             -3.90022356e-18-2.14376736e-18j,\n",
      "              1.37144113e-17+1.23220850e-17j, ...,\n",
      "             -4.06649485e-82-2.18673723e-82j,\n",
      "             -1.58591459e-82-3.38243612e-82j,\n",
      "             -2.05105395e-82-4.47567223e-82j],\n",
      "            dims=(2, 2, 2, 2, 2, 2, 2, 2, 2, 2, 2, 2, 2, 2, 2, 2, 2, 2))\n",
      "Statevector([-5.20555199e-03-5.20555199e-03j,\n",
      "             -3.90022356e-18-2.14376736e-18j,\n",
      "              1.37144113e-17+1.23220850e-17j, ...,\n",
      "             -4.06649485e-82-2.18673723e-82j,\n",
      "             -1.58591459e-82-3.38243612e-82j,\n",
      "             -2.05105395e-82-4.47567223e-82j],\n",
      "            dims=(2, 2, 2, 2, 2, 2, 2, 2, 2, 2, 2, 2, 2, 2, 2, 2, 2, 2))\n",
      "Statevector([-5.20555199e-03-5.20555199e-03j,\n",
      "             -3.90022356e-18-2.14376736e-18j,\n",
      "              1.37144113e-17+1.23220850e-17j, ...,\n",
      "             -4.06649485e-82-2.18673723e-82j,\n",
      "             -1.58591459e-82-3.38243612e-82j,\n",
      "             -2.05105395e-82-4.47567223e-82j],\n",
      "            dims=(2, 2, 2, 2, 2, 2, 2, 2, 2, 2, 2, 2, 2, 2, 2, 2, 2, 2))\n",
      "Statevector([-5.20555199e-03-5.20555199e-03j,\n",
      "             -3.90022356e-18-2.14376736e-18j,\n",
      "              1.37144113e-17+1.23220850e-17j, ...,\n",
      "             -4.06649485e-82-2.18673723e-82j,\n",
      "             -1.58591459e-82-3.38243612e-82j,\n",
      "             -2.05105395e-82-4.47567223e-82j],\n",
      "            dims=(2, 2, 2, 2, 2, 2, 2, 2, 2, 2, 2, 2, 2, 2, 2, 2, 2, 2))\n",
      "Statevector([-5.20555199e-03-5.20555199e-03j,\n",
      "             -3.90022356e-18-2.14376736e-18j,\n",
      "              1.37144113e-17+1.23220850e-17j, ...,\n",
      "             -4.06649485e-82-2.18673723e-82j,\n",
      "             -1.58591459e-82-3.38243612e-82j,\n",
      "             -2.05105395e-82-4.47567223e-82j],\n",
      "            dims=(2, 2, 2, 2, 2, 2, 2, 2, 2, 2, 2, 2, 2, 2, 2, 2, 2, 2))\n",
      "Statevector([-5.20555199e-03-5.20555199e-03j,\n",
      "             -3.90022356e-18-2.14376736e-18j,\n",
      "              1.37144113e-17+1.23220850e-17j, ...,\n",
      "             -4.06649485e-82-2.18673723e-82j,\n",
      "             -1.58591459e-82-3.38243612e-82j,\n",
      "             -2.05105395e-82-4.47567223e-82j],\n",
      "            dims=(2, 2, 2, 2, 2, 2, 2, 2, 2, 2, 2, 2, 2, 2, 2, 2, 2, 2))\n",
      "Statevector([-5.20555199e-03-5.20555199e-03j,\n",
      "             -3.90022356e-18-2.14376736e-18j,\n",
      "              1.37144113e-17+1.23220850e-17j, ...,\n",
      "             -4.06649485e-82-2.18673723e-82j,\n",
      "             -1.58591459e-82-3.38243612e-82j,\n",
      "             -2.05105395e-82-4.47567223e-82j],\n",
      "            dims=(2, 2, 2, 2, 2, 2, 2, 2, 2, 2, 2, 2, 2, 2, 2, 2, 2, 2))\n"
     ]
    }
   ],
   "source": [
    "# 2/29/24 Square Root 10 qubits\n",
    "# calling qiskit packages, make sure to use qiskit v0.46.0 as that is the only version that supports execute_function\n",
    "from qiskit import QuantumCircuit, Aer, execute\n",
    "import json\n",
    "\n",
    "# reading qasm file\n",
    "qc = QuantumCircuit.from_qasm_file(\"sqrt_18.qasm\")\n",
    "\n",
    "# using statevector simulator\n",
    "backend = Aer.get_backend(\"statevector_simulator\")\n",
    "\n",
    "# setting shot increments\n",
    "x = 64\n",
    "\n",
    "# setting cirucit name to avoid having to change\n",
    "name = \"sqrt\"\n",
    "\n",
    "# simple while loop to calculate \n",
    "while x <= 1024:\n",
    "    # actually running the circuit with the AER statevector and with the specified shot\n",
    "    job = execute(qc, backend, shots=x)\n",
    "    result = job.result()\n",
    "\n",
    "    # statevector for debugging \n",
    "    statevector = result.get_statevector()\n",
    "    print(statevector)\n",
    "\n",
    "    # getting counts\n",
    "    counts = result.get_counts(qc)\n",
    "\n",
    "    # exporting counts to json file\n",
    "    with open(name + '_counts_' + str(x) + '_shots.json', 'w', encoding='utf-8') as f:\n",
    "        json.dump(counts, f, ensure_ascii=False, indent=4)\n",
    "    \n",
    "    x += 64"
   ]
  }
 ],
 "metadata": {
  "kernelspec": {
   "display_name": "Python 3 (ipykernel)",
   "language": "python",
   "name": "python3"
  },
  "language_info": {
   "codemirror_mode": {
    "name": "ipython",
    "version": 3
   },
   "file_extension": ".py",
   "mimetype": "text/x-python",
   "name": "python",
   "nbconvert_exporter": "python",
   "pygments_lexer": "ipython3",
   "version": "3.10.12"
  },
  "widgets": {
   "application/vnd.jupyter.widget-state+json": {
    "state": {
     "06894bea558844e6bbc88e6d8c7fa948": {
      "model_module": "@jupyter-widgets/controls",
      "model_module_version": "2.0.0",
      "model_name": "HTMLModel",
      "state": {
       "layout": "IPY_MODEL_7c023bec3b354164b1e253c2558a04d9",
       "style": "IPY_MODEL_3750bb26c44d413b8be25b57240b08dd",
       "value": "<h5>Backend</h5>"
      }
     },
     "19855a48f3bb46e296e0b6b518c34bb0": {
      "model_module": "@jupyter-widgets/base",
      "model_module_version": "2.0.0",
      "model_name": "LayoutModel",
      "state": {
       "width": "95px"
      }
     },
     "1f1c4bfd669648e4a6ac4df4f0ca553a": {
      "model_module": "@jupyter-widgets/controls",
      "model_module_version": "2.0.0",
      "model_name": "HTMLStyleModel",
      "state": {
       "description_width": "",
       "font_size": null,
       "text_color": null
      }
     },
     "2761afc3cf3d4883b208b450f97fc67a": {
      "model_module": "@jupyter-widgets/base",
      "model_module_version": "2.0.0",
      "model_name": "LayoutModel",
      "state": {
       "grid_template_areas": "\n                                       \". . . . right \"\n                                        ",
       "grid_template_columns": "20% 20% 20% 20% 20%",
       "width": "100%"
      }
     },
     "2a278f69a09a4517b06b021e6b0af7af": {
      "model_module": "@jupyter-widgets/controls",
      "model_module_version": "2.0.0",
      "model_name": "HTMLStyleModel",
      "state": {
       "description_width": "",
       "font_size": null,
       "text_color": null
      }
     },
     "30f33a72445c469dbac16c63079bd987": {
      "model_module": "@jupyter-widgets/controls",
      "model_module_version": "2.0.0",
      "model_name": "HTMLStyleModel",
      "state": {
       "description_width": "",
       "font_size": null,
       "text_color": null
      }
     },
     "3750bb26c44d413b8be25b57240b08dd": {
      "model_module": "@jupyter-widgets/controls",
      "model_module_version": "2.0.0",
      "model_name": "HTMLStyleModel",
      "state": {
       "description_width": "",
       "font_size": null,
       "text_color": null
      }
     },
     "51784a3cfbca4605a8ebfe9dc2c7c393": {
      "model_module": "@jupyter-widgets/controls",
      "model_module_version": "2.0.0",
      "model_name": "HTMLModel",
      "state": {
       "layout": "IPY_MODEL_19855a48f3bb46e296e0b6b518c34bb0",
       "style": "IPY_MODEL_30f33a72445c469dbac16c63079bd987",
       "value": "<h5>Status</h5>"
      }
     },
     "522415886e574eae9a275125fba14dd1": {
      "model_module": "@jupyter-widgets/controls",
      "model_module_version": "2.0.0",
      "model_name": "GridBoxModel",
      "state": {
       "children": [
        "IPY_MODEL_bf18fa442c5e440bb5f52e673a5cf155"
       ],
       "layout": "IPY_MODEL_2761afc3cf3d4883b208b450f97fc67a"
      }
     },
     "52bf5b921bfc4c02a2a2a1947099b501": {
      "model_module": "@jupyter-widgets/base",
      "model_module_version": "2.0.0",
      "model_name": "LayoutModel",
      "state": {
       "grid_area": "right",
       "padding": "0px 0px 0px 0px",
       "width": "70px"
      }
     },
     "53835ce6040c4ae19e2e038380f63512": {
      "model_module": "@jupyter-widgets/base",
      "model_module_version": "2.0.0",
      "model_name": "LayoutModel",
      "state": {
       "margin": "0px 0px 0px 37px",
       "width": "600px"
      }
     },
     "773286347d0e4c39938c4fcd9d7a7759": {
      "model_module": "@jupyter-widgets/controls",
      "model_module_version": "2.0.0",
      "model_name": "HTMLModel",
      "state": {
       "layout": "IPY_MODEL_eaa69b8a351c4f11a36053a5d5107e55",
       "style": "IPY_MODEL_2a278f69a09a4517b06b021e6b0af7af",
       "value": "<p style='font-family: IBM Plex Sans, Arial, Helvetica, sans-serif; font-size: 20px; font-weight: medium;'>Circuit Properties</p>"
      }
     },
     "7c023bec3b354164b1e253c2558a04d9": {
      "model_module": "@jupyter-widgets/base",
      "model_module_version": "2.0.0",
      "model_name": "LayoutModel",
      "state": {
       "width": "145px"
      }
     },
     "8323dbc4308041c191136400642e4a4c": {
      "model_module": "@jupyter-widgets/controls",
      "model_module_version": "2.0.0",
      "model_name": "HTMLModel",
      "state": {
       "layout": "IPY_MODEL_dd316334b75144938120f57729f23782",
       "style": "IPY_MODEL_c259879d884843b59c4d0e5726a0cbc1",
       "value": "<h5>Job ID</h5>"
      }
     },
     "8af026560ff14712bc438751ed86e2b6": {
      "model_module": "@jupyter-widgets/controls",
      "model_module_version": "2.0.0",
      "model_name": "HBoxModel",
      "state": {
       "children": [
        "IPY_MODEL_8323dbc4308041c191136400642e4a4c",
        "IPY_MODEL_06894bea558844e6bbc88e6d8c7fa948",
        "IPY_MODEL_51784a3cfbca4605a8ebfe9dc2c7c393",
        "IPY_MODEL_cb87dd120b524f8ca64acf6f3e01768b",
        "IPY_MODEL_c0a329fb215a410aa02a3743cf5ac609"
       ],
       "layout": "IPY_MODEL_53835ce6040c4ae19e2e038380f63512"
      }
     },
     "992e753ae96b48a784791ca7a24b7373": {
      "model_module": "@jupyter-widgets/base",
      "model_module_version": "2.0.0",
      "model_name": "LayoutModel",
      "state": {}
     },
     "b4a202ea7b554328ab07b3bb65b6aad0": {
      "model_module": "@jupyter-widgets/controls",
      "model_module_version": "2.0.0",
      "model_name": "HTMLStyleModel",
      "state": {
       "description_width": "",
       "font_size": null,
       "text_color": null
      }
     },
     "bf18fa442c5e440bb5f52e673a5cf155": {
      "model_module": "@jupyter-widgets/controls",
      "model_module_version": "2.0.0",
      "model_name": "ButtonModel",
      "state": {
       "button_style": "primary",
       "description": "Clear",
       "layout": "IPY_MODEL_52bf5b921bfc4c02a2a2a1947099b501",
       "style": "IPY_MODEL_e849ff13dbfb4e8788222b57b3fe48dc",
       "tooltip": null
      }
     },
     "c0a329fb215a410aa02a3743cf5ac609": {
      "model_module": "@jupyter-widgets/controls",
      "model_module_version": "2.0.0",
      "model_name": "HTMLModel",
      "state": {
       "layout": "IPY_MODEL_992e753ae96b48a784791ca7a24b7373",
       "style": "IPY_MODEL_b4a202ea7b554328ab07b3bb65b6aad0",
       "value": "<h5>Message</h5>"
      }
     },
     "c259879d884843b59c4d0e5726a0cbc1": {
      "model_module": "@jupyter-widgets/controls",
      "model_module_version": "2.0.0",
      "model_name": "HTMLStyleModel",
      "state": {
       "description_width": "",
       "font_size": null,
       "text_color": null
      }
     },
     "cb87dd120b524f8ca64acf6f3e01768b": {
      "model_module": "@jupyter-widgets/controls",
      "model_module_version": "2.0.0",
      "model_name": "HTMLModel",
      "state": {
       "layout": "IPY_MODEL_fb41d39adad744bba5669abf2c85bb22",
       "style": "IPY_MODEL_1f1c4bfd669648e4a6ac4df4f0ca553a",
       "value": "<h5>Queue</h5>"
      }
     },
     "dd316334b75144938120f57729f23782": {
      "model_module": "@jupyter-widgets/base",
      "model_module_version": "2.0.0",
      "model_name": "LayoutModel",
      "state": {
       "width": "190px"
      }
     },
     "e849ff13dbfb4e8788222b57b3fe48dc": {
      "model_module": "@jupyter-widgets/controls",
      "model_module_version": "2.0.0",
      "model_name": "ButtonStyleModel",
      "state": {
       "font_family": null,
       "font_size": null,
       "font_style": null,
       "font_variant": null,
       "font_weight": null,
       "text_color": null,
       "text_decoration": null
      }
     },
     "eaa69b8a351c4f11a36053a5d5107e55": {
      "model_module": "@jupyter-widgets/base",
      "model_module_version": "2.0.0",
      "model_name": "LayoutModel",
      "state": {
       "margin": "0px 0px 10px 0px"
      }
     },
     "fb41d39adad744bba5669abf2c85bb22": {
      "model_module": "@jupyter-widgets/base",
      "model_module_version": "2.0.0",
      "model_name": "LayoutModel",
      "state": {
       "width": "70px"
      }
     }
    },
    "version_major": 2,
    "version_minor": 0
   }
  }
 },
 "nbformat": 4,
 "nbformat_minor": 5
}
