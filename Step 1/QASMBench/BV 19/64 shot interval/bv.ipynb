{
 "cells": [
  {
   "cell_type": "code",
   "execution_count": 1,
   "id": "f9804206-78ff-4062-85f0-267e06befbdd",
   "metadata": {
    "tags": []
   },
   "outputs": [],
   "source": [
    "# 3/1/24 Bernstein-Vazirani (BV) Algorithm 19 qubits\n",
    "# calling qiskit packages, make sure to use qiskit v0.46.0 as that is the only version that supports execute_function\n",
    "from qiskit import QuantumCircuit, Aer, execute\n",
    "from qiskit.visualization import plot_histogram\n",
    "import json\n",
    "import numpy as np\n",
    "import matplotlib.pyplot as plt\n",
    "\n",
    "# defining all the variables here\n",
    "Q = 19 # number of qubits\n",
    "x = 64 # calculating increment proportional to total number of shots (S)\n",
    "nc = x # setting unchanging value for the loop\n",
    "time = 30 # setting the normalization value\n",
    "filename = \"bv\" # setting universal filename to avoid having to set differently\n",
    "foldername = \"BV 19\" # setting universal folder name to avoid having to change it anywhere else\n",
    "benchmark = \"QASMBench\" # setting universal benchmark name to avoid having to change it everywhere else\n",
    "bs_var_dict = {} # empty list to hold all values of bs_var to see how it changes over time\n",
    "p_var_dict = {} # empty list to hold all vaues of p_var to see how it changes over time\n",
    "\n",
    "\n",
    "# added variance function instead of having to run it together\n",
    "def variance(shots, b_name, fo_name, f_name):\n",
    "    # load the output distribution from the json file\n",
    "    file_path = '/home/aadi/Documents/Neutral-Atom-Technology/Step 1/' + str(b_name) + '/' + str(fo_name) + '/64 shot interval/' + str(f_name) + '_counts_' + str(shots) + '_shots.json' \n",
    "    with open(file_path, 'r') as file:\n",
    "        output_distribution = json.load(file)\n",
    "\n",
    "    # convert the dictionary keys to a list and probabilities to a separate list\n",
    "    states = list(output_distribution.keys())\n",
    "    probabilities = list(output_distribution.values())\n",
    "\n",
    "    # checks if probability value is more than one. If so, then it makes it proportional to what it should be\n",
    "\n",
    "    \n",
    "    # this sets the probability values to 1 instead of the shot number\n",
    "    probabilities = [x//shots for x in probabilities]\n",
    "    \n",
    "    # random sampling of basis states based on probability and setting them equal to a list\n",
    "    sample = np.random.choice(states, size=shots, p=probabilities)\n",
    "\n",
    "    # random sampling of the probabilites list based on probabilty and setting them equal to a list\n",
    "    prob_sample = np.random.choice(probabilities, size=shots, p=probabilities)\n",
    "\n",
    "    # change binary to ints\n",
    "    int_sample = [int(b, 2) for b in sample]\n",
    "\n",
    "    # calculating the variance and printing out the results\n",
    "    sample_var = np.var(int_sample)\n",
    "    # print(\"The sample variance is: \" + str(sample_var))\n",
    "    prob_var = np.var(prob_sample)\n",
    "    # print(\"The sample variance using probability is : \" + str(prob_var))\n",
    "    \n",
    "    \n",
    "    return int(sample_var), prob_var\n"
   ]
  },
  {
   "cell_type": "code",
   "execution_count": 3,
   "id": "29dcdd0b",
   "metadata": {},
   "outputs": [
    {
     "name": "stderr",
     "output_type": "stream",
     "text": [
      "/tmp/ipykernel_350559/2707108785.py:5: DeprecationWarning: The 'qiskit.Aer' entry point is deprecated and will be removed in Qiskit 1.0. You should use 'qiskit_aer.Aer' directly instead.\n",
      "  backend = Aer.get_backend(\"statevector_simulator\")\n",
      "/tmp/ipykernel_350559/2707108785.py:16: DeprecationWarning: The function ``qiskit.execute_function.execute()`` is deprecated as of qiskit 0.46.0. It will be removed in the Qiskit 1.0 release. This function combines ``transpile`` and ``backend.run``, which is covered by ``Sampler`` :mod:`~qiskit.primitives`. Alternatively, you can also run :func:`.transpile` followed by ``backend.run()``.\n",
      "  job = execute(qc, backend, shots=x)\n"
     ]
    },
    {
     "name": "stdout",
     "output_type": "stream",
     "text": [
      "Finished simulating and analyzing shot 64. Now moving onto the next shot interval.\n",
      "Finished simulating and analyzing shot 128. Now moving onto the next shot interval.\n",
      "Finished simulating and analyzing shot 192. Now moving onto the next shot interval.\n",
      "Finished simulating and analyzing shot 256. Now moving onto the next shot interval.\n",
      "Finished simulating and analyzing shot 320. Now moving onto the next shot interval.\n",
      "Finished simulating and analyzing shot 384. Now moving onto the next shot interval.\n",
      "Finished simulating and analyzing shot 448. Now moving onto the next shot interval.\n",
      "Finished simulating and analyzing shot 512. Now moving onto the next shot interval.\n",
      "Finished simulating and analyzing shot 576. Now moving onto the next shot interval.\n",
      "Finished simulating and analyzing shot 640. Now moving onto the next shot interval.\n",
      "Finished simulating and analyzing shot 704. Now moving onto the next shot interval.\n",
      "Finished simulating and analyzing shot 768. Now moving onto the next shot interval.\n",
      "Finished simulating and analyzing shot 832. Now moving onto the next shot interval.\n",
      "Finished simulating and analyzing shot 896. Now moving onto the next shot interval.\n",
      "Finished simulating and analyzing shot 960. Now moving onto the next shot interval.\n",
      "Finished simulating and analyzing shot 1024. Now moving onto the next shot interval.\n"
     ]
    }
   ],
   "source": [
    "# reading qasm file\n",
    "qc = QuantumCircuit.from_qasm_file(filename + \"_n\" + str(Q) + \".qasm\")\n",
    "\n",
    "# using statevector simulator\n",
    "backend = Aer.get_backend(\"statevector_simulator\")\n",
    "\n",
    "# simple while loop to calculate and simulate the circuit at different specified intervals\n",
    "while x <= 1024:\n",
    "    \n",
    "    bs_var = 0 # variance using basis states converted into integers\n",
    "    p_var = 0 # variance using probability \n",
    "    avg_bs_var = 0 # variable to calculate average variance of basis state \n",
    "    avg_p_var = 0 # variable to calculate average variance of proabilty\n",
    "    \n",
    "    # executing the circuit via backend\n",
    "    job = execute(qc, backend, shots=x)\n",
    "    result = job.result()\n",
    "\n",
    "    # getting statevector results \n",
    "    statevector = result.get_statevector()\n",
    "    # print(statevector)\n",
    "\n",
    "    # getting counts (output distribution) of the simulation\n",
    "    counts = result.get_counts(qc)\n",
    "\n",
    "    # printing shot number to follow along\n",
    "    # print(str(x))\n",
    "\n",
    "    # logging the counts to a json file\n",
    "    with open(filename + '_counts_' + str(int(x)) + '_shots.json', 'w', encoding='utf-8') as f:\n",
    "        json.dump(counts, f, ensure_ascii=False, indent=4)\n",
    "\n",
    "    # calculating the variance and normalizing it by running it 30 times and averaging it\n",
    "    for t in range(1, time+1):\n",
    "        temp_bs_var, temp_p_var = variance(int(x), benchmark, foldername, filename)\n",
    "        bs_var += temp_bs_var\n",
    "        p_var += temp_p_var\n",
    "        avg_bs_var = int(bs_var / t)\n",
    "        avg_p_var = p_var / t\n",
    "        \n",
    "    bs_var_dict[str(int(x))] = avg_bs_var\n",
    "    p_var_dict[str(int(x))] = avg_p_var\n",
    "    \n",
    "    print(\"Finished simulating and analyzing shot \" + str(int(x)) + \". Now moving onto the next shot interval.\")\n",
    "\n",
    "    # print(\"\\nThe average variance using probability is: \" + str(avg_p_var))\n",
    "    # print(\"The average variance using basis state converted to integers is: \" + str(avg_bs_var))\n",
    "    \n",
    "    # moving up an increment\n",
    "    x += nc\n"
   ]
  },
  {
   "cell_type": "code",
   "execution_count": 4,
   "id": "79c6f2dc",
   "metadata": {},
   "outputs": [
    {
     "data": {
      "image/png": "[encoded data removed]",
      "text/plain": [
       "<Figure size 1000x500 with 1 Axes>"
      ]
     },
     "metadata": {},
     "output_type": "display_data"
    }
   ],
   "source": [
    "# splitting by counts and variance of probability dictionary\n",
    "shots = list(p_var_dict.keys())\n",
    "variance = list(p_var_dict.values())\n",
    "\n",
    "# setting the plot size\n",
    "fig = plt.figure(figsize = (10, 5))\n",
    "\n",
    "# creating the bar plot\n",
    "plt.bar(shots, variance, color ='blue', \n",
    "        width = 0.4)\n",
    "\n",
    "# labeling the plot appropriately \n",
    "plt.xlabel(\"Shots\")\n",
    "plt.ylabel(\"Variance\")\n",
    "plt.title(\"Probability Variance per shot interval of \" + foldername + \" qubits\")\n",
    "plt.show()"
   ]
  },
  {
   "cell_type": "code",
   "execution_count": 5,
   "id": "3f6687fa",
   "metadata": {},
   "outputs": [
    {
     "data": {
      "image/png": "[encoded data removed]",
      "text/plain": [
       "<Figure size 1000x500 with 1 Axes>"
      ]
     },
     "metadata": {},
     "output_type": "display_data"
    }
   ],
   "source": [
    "# splitting by counts and variance of basis state dictionary\n",
    "shots = list(bs_var_dict.keys())\n",
    "variance = list(bs_var_dict.values())\n",
    "\n",
    "# setting the plot size\n",
    "fig = plt.figure(figsize = (10, 5))\n",
    "\n",
    "# creating the bar plot\n",
    "plt.bar(shots, variance, color ='red', \n",
    "        width = 0.4)\n",
    "\n",
    "# labeling the plot appropriately \n",
    "plt.xlabel(\"Shots\")\n",
    "plt.ylabel(\"Variance\")\n",
    "plt.title(\"Basis State Variance per shot interval of \" + foldername + \" qubits\")\n",
    "plt.show()"
   ]
  }
 ],
 "metadata": {
  "kernelspec": {
   "display_name": "Python 3 (ipykernel)",
   "language": "python",
   "name": "python3"
  },
  "language_info": {
   "codemirror_mode": {
    "name": "ipython",
    "version": 3
   },
   "file_extension": ".py",
   "mimetype": "text/x-python",
   "name": "python",
   "nbconvert_exporter": "python",
   "pygments_lexer": "ipython3",
   "version": "3.10.12"
  },
  "widgets": {
   "application/vnd.jupyter.widget-state+json": {
    "state": {
     "05f503bf65594858be907d34d4f8f0d0": {
      "model_module": "@jupyter-widgets/controls",
      "model_module_version": "2.0.0",
      "model_name": "HTMLModel",
      "state": {
       "layout": "IPY_MODEL_58f6d53c8ffd4dd3a5fc19af6fb97efc",
       "style": "IPY_MODEL_d2cf1e36fee0416c8f97486cdc6edca2",
       "value": "<h5>Status</h5>"
      }
     },
     "06e4a2fa493f4415bf0094938e3d86c9": {
      "model_module": "@jupyter-widgets/controls",
      "model_module_version": "2.0.0",
      "model_name": "HTMLStyleModel",
      "state": {
       "description_width": "",
       "font_size": null,
       "text_color": null
      }
     },
     "097d11077b63406ebb56048b69366e61": {
      "model_module": "@jupyter-widgets/controls",
      "model_module_version": "2.0.0",
      "model_name": "ButtonStyleModel",
      "state": {
       "font_family": null,
       "font_size": null,
       "font_style": null,
       "font_variant": null,
       "font_weight": null,
       "text_color": null,
       "text_decoration": null
      }
     },
     "1e72ba7a09ac4309b98fa312159e6f7d": {
      "model_module": "@jupyter-widgets/controls",
      "model_module_version": "2.0.0",
      "model_name": "HTMLModel",
      "state": {
       "layout": "IPY_MODEL_3bb7742cffb64bc0a5b8689a36397dff",
       "style": "IPY_MODEL_ff2c5d5131274ce99920d834eb1100d9",
       "value": "<h5>Job ID</h5>"
      }
     },
     "36ed56b5ceaf4b3aa2f06e41c7803d1d": {
      "model_module": "@jupyter-widgets/controls",
      "model_module_version": "2.0.0",
      "model_name": "HTMLStyleModel",
      "state": {
       "description_width": "",
       "font_size": null,
       "text_color": null
      }
     },
     "38eb522e6aeb47f8ae4605542ae3db1a": {
      "model_module": "@jupyter-widgets/base",
      "model_module_version": "2.0.0",
      "model_name": "LayoutModel",
      "state": {
       "width": "70px"
      }
     },
     "3bb7742cffb64bc0a5b8689a36397dff": {
      "model_module": "@jupyter-widgets/base",
      "model_module_version": "2.0.0",
      "model_name": "LayoutModel",
      "state": {
       "width": "190px"
      }
     },
     "419065d7e00b4ba89cbe8c55e9095cde": {
      "model_module": "@jupyter-widgets/base",
      "model_module_version": "2.0.0",
      "model_name": "LayoutModel",
      "state": {
       "width": "145px"
      }
     },
     "45be5270ba4646a7af758be0ae7f7b90": {
      "model_module": "@jupyter-widgets/controls",
      "model_module_version": "2.0.0",
      "model_name": "HBoxModel",
      "state": {
       "children": [
        "IPY_MODEL_1e72ba7a09ac4309b98fa312159e6f7d",
        "IPY_MODEL_f13a2fb45f9c43d796350a2873a762a1",
        "IPY_MODEL_05f503bf65594858be907d34d4f8f0d0",
        "IPY_MODEL_daf91dfd0e57421c81dd6a46c22950b3",
        "IPY_MODEL_6174514d64924338aefeaa0bed33a196"
       ],
       "layout": "IPY_MODEL_55ce65292f13444dacd4e719acd23a5d"
      }
     },
     "55ce65292f13444dacd4e719acd23a5d": {
      "model_module": "@jupyter-widgets/base",
      "model_module_version": "2.0.0",
      "model_name": "LayoutModel",
      "state": {
       "margin": "0px 0px 0px 37px",
       "width": "600px"
      }
     },
     "58f6d53c8ffd4dd3a5fc19af6fb97efc": {
      "model_module": "@jupyter-widgets/base",
      "model_module_version": "2.0.0",
      "model_name": "LayoutModel",
      "state": {
       "width": "95px"
      }
     },
     "6038c191fcd347c69f5be0fe94c5c62f": {
      "model_module": "@jupyter-widgets/controls",
      "model_module_version": "2.0.0",
      "model_name": "ButtonModel",
      "state": {
       "button_style": "primary",
       "description": "Clear",
       "layout": "IPY_MODEL_dc1e18dabc594f958bf7ae7d7475bec0",
       "style": "IPY_MODEL_097d11077b63406ebb56048b69366e61",
       "tooltip": null
      }
     },
     "6174514d64924338aefeaa0bed33a196": {
      "model_module": "@jupyter-widgets/controls",
      "model_module_version": "2.0.0",
      "model_name": "HTMLModel",
      "state": {
       "layout": "IPY_MODEL_99adf02ea9fe40d5ae59821b7a021c10",
       "style": "IPY_MODEL_36ed56b5ceaf4b3aa2f06e41c7803d1d",
       "value": "<h5>Message</h5>"
      }
     },
     "73f964c1c1b54220aac1520df979a6bb": {
      "model_module": "@jupyter-widgets/controls",
      "model_module_version": "2.0.0",
      "model_name": "HTMLStyleModel",
      "state": {
       "description_width": "",
       "font_size": null,
       "text_color": null
      }
     },
     "841e63a6d927402ca0f8a7316f638364": {
      "model_module": "@jupyter-widgets/controls",
      "model_module_version": "2.0.0",
      "model_name": "HTMLStyleModel",
      "state": {
       "description_width": "",
       "font_size": null,
       "text_color": null
      }
     },
     "8890aa339b394ad99565c4bff13518f5": {
      "model_module": "@jupyter-widgets/controls",
      "model_module_version": "2.0.0",
      "model_name": "HTMLModel",
      "state": {
       "layout": "IPY_MODEL_d54398d68ed94f9896bf8c3e073f73d5",
       "style": "IPY_MODEL_73f964c1c1b54220aac1520df979a6bb",
       "value": "<p style='font-family: IBM Plex Sans, Arial, Helvetica, sans-serif; font-size: 20px; font-weight: medium;'>Circuit Properties</p>"
      }
     },
     "99adf02ea9fe40d5ae59821b7a021c10": {
      "model_module": "@jupyter-widgets/base",
      "model_module_version": "2.0.0",
      "model_name": "LayoutModel",
      "state": {}
     },
     "b5cd2e18e9b6486e934dbc48882c9c2e": {
      "model_module": "@jupyter-widgets/base",
      "model_module_version": "2.0.0",
      "model_name": "LayoutModel",
      "state": {
       "grid_template_areas": "\n                                       \". . . . right \"\n                                        ",
       "grid_template_columns": "20% 20% 20% 20% 20%",
       "width": "100%"
      }
     },
     "d2cf1e36fee0416c8f97486cdc6edca2": {
      "model_module": "@jupyter-widgets/controls",
      "model_module_version": "2.0.0",
      "model_name": "HTMLStyleModel",
      "state": {
       "description_width": "",
       "font_size": null,
       "text_color": null
      }
     },
     "d54398d68ed94f9896bf8c3e073f73d5": {
      "model_module": "@jupyter-widgets/base",
      "model_module_version": "2.0.0",
      "model_name": "LayoutModel",
      "state": {
       "margin": "0px 0px 10px 0px"
      }
     },
     "daf91dfd0e57421c81dd6a46c22950b3": {
      "model_module": "@jupyter-widgets/controls",
      "model_module_version": "2.0.0",
      "model_name": "HTMLModel",
      "state": {
       "layout": "IPY_MODEL_38eb522e6aeb47f8ae4605542ae3db1a",
       "style": "IPY_MODEL_06e4a2fa493f4415bf0094938e3d86c9",
       "value": "<h5>Queue</h5>"
      }
     },
     "dc1e18dabc594f958bf7ae7d7475bec0": {
      "model_module": "@jupyter-widgets/base",
      "model_module_version": "2.0.0",
      "model_name": "LayoutModel",
      "state": {
       "grid_area": "right",
       "padding": "0px 0px 0px 0px",
       "width": "70px"
      }
     },
     "e406ec1b790b4219b771ecf1eac0c29a": {
      "model_module": "@jupyter-widgets/controls",
      "model_module_version": "2.0.0",
      "model_name": "GridBoxModel",
      "state": {
       "children": [
        "IPY_MODEL_6038c191fcd347c69f5be0fe94c5c62f"
       ],
       "layout": "IPY_MODEL_b5cd2e18e9b6486e934dbc48882c9c2e"
      }
     },
     "f13a2fb45f9c43d796350a2873a762a1": {
      "model_module": "@jupyter-widgets/controls",
      "model_module_version": "2.0.0",
      "model_name": "HTMLModel",
      "state": {
       "layout": "IPY_MODEL_419065d7e00b4ba89cbe8c55e9095cde",
       "style": "IPY_MODEL_841e63a6d927402ca0f8a7316f638364",
       "value": "<h5>Backend</h5>"
      }
     },
     "ff2c5d5131274ce99920d834eb1100d9": {
      "model_module": "@jupyter-widgets/controls",
      "model_module_version": "2.0.0",
      "model_name": "HTMLStyleModel",
      "state": {
       "description_width": "",
       "font_size": null,
       "text_color": null
      }
     }
    },
    "version_major": 2,
    "version_minor": 0
   }
  }
 },
 "nbformat": 4,
 "nbformat_minor": 5
}
