{
 "cells": [
  {
   "cell_type": "code",
   "execution_count": 13,
   "id": "f9804206-78ff-4062-85f0-267e06befbdd",
   "metadata": {
    "tags": []
   },
   "outputs": [
    {
     "name": "stdout",
     "output_type": "stream",
     "text": [
      "Statevector([ 0.        +0.00000000e+00j,  0.        +0.00000000e+00j,\n",
      "              0.        +0.00000000e+00j, ...,  0.        +0.00000000e+00j,\n",
      "              0.        -0.00000000e+00j, -0.70710678+7.36062648e-16j],\n",
      "            dims=(2, 2, 2, 2, 2, 2, 2, 2, 2, 2, 2, 2, 2, 2, 2, 2, 2, 2, 2))\n"
     ]
    },
    {
     "data": {
      "image/png": "[encoded data removed]",
      "text/plain": [
       "<Figure size 700x500 with 1 Axes>"
      ]
     },
     "execution_count": 13,
     "metadata": {},
     "output_type": "execute_result"
    }
   ],
   "source": [
    "# 1/24/24 Bernstein-Vazirani (BV) Algorithm 19 qubits\n",
    "# calling qiskit packages, make sure to use qiskit v0.46.0 as that is the only version that supports execute_function\n",
    "from qiskit import QuantumCircuit, Aer, execute\n",
    "from qiskit.visualization import circuit_drawer\n",
    "\n",
    "# loading the circuit from qasm file\n",
    "qc = QuantumCircuit.from_qasm_file(\"bv_n19.qasm\")\n",
    "\n",
    "# specifiying what backend we will be using\n",
    "backend = Aer.get_backend(\"statevector_simulator\")\n",
    "\n",
    "# executing the circuit\n",
    "job = execute(qc, backend)\n",
    "result = job.result()\n",
    "\n",
    "# getting statevector results\n",
    "statevector = result.get_statevector()\n",
    "print(statevector)\n",
    "\n",
    "# plotting histogram \n",
    "counts = result.get_counts(qc)\n",
    "plot_histogram(counts)"
   ]
  }
 ],
 "metadata": {
  "kernelspec": {
   "display_name": "Python 3 (ipykernel)",
   "language": "python",
   "name": "python3"
  },
  "language_info": {
   "codemirror_mode": {
    "name": "ipython",
    "version": 3
   },
   "file_extension": ".py",
   "mimetype": "text/x-python",
   "name": "python",
   "nbconvert_exporter": "python",
   "pygments_lexer": "ipython3",
   "version": "3.10.8"
  },
  "widgets": {
   "application/vnd.jupyter.widget-state+json": {
    "state": {
     "05f503bf65594858be907d34d4f8f0d0": {
      "model_module": "@jupyter-widgets/controls",
      "model_module_version": "2.0.0",
      "model_name": "HTMLModel",
      "state": {
       "layout": "IPY_MODEL_58f6d53c8ffd4dd3a5fc19af6fb97efc",
       "style": "IPY_MODEL_d2cf1e36fee0416c8f97486cdc6edca2",
       "value": "<h5>Status</h5>"
      }
     },
     "06e4a2fa493f4415bf0094938e3d86c9": {
      "model_module": "@jupyter-widgets/controls",
      "model_module_version": "2.0.0",
      "model_name": "HTMLStyleModel",
      "state": {
       "description_width": "",
       "font_size": null,
       "text_color": null
      }
     },
     "097d11077b63406ebb56048b69366e61": {
      "model_module": "@jupyter-widgets/controls",
      "model_module_version": "2.0.0",
      "model_name": "ButtonStyleModel",
      "state": {
       "font_family": null,
       "font_size": null,
       "font_style": null,
       "font_variant": null,
       "font_weight": null,
       "text_color": null,
       "text_decoration": null
      }
     },
     "1e72ba7a09ac4309b98fa312159e6f7d": {
      "model_module": "@jupyter-widgets/controls",
      "model_module_version": "2.0.0",
      "model_name": "HTMLModel",
      "state": {
       "layout": "IPY_MODEL_3bb7742cffb64bc0a5b8689a36397dff",
       "style": "IPY_MODEL_ff2c5d5131274ce99920d834eb1100d9",
       "value": "<h5>Job ID</h5>"
      }
     },
     "36ed56b5ceaf4b3aa2f06e41c7803d1d": {
      "model_module": "@jupyter-widgets/controls",
      "model_module_version": "2.0.0",
      "model_name": "HTMLStyleModel",
      "state": {
       "description_width": "",
       "font_size": null,
       "text_color": null
      }
     },
     "38eb522e6aeb47f8ae4605542ae3db1a": {
      "model_module": "@jupyter-widgets/base",
      "model_module_version": "2.0.0",
      "model_name": "LayoutModel",
      "state": {
       "width": "70px"
      }
     },
     "3bb7742cffb64bc0a5b8689a36397dff": {
      "model_module": "@jupyter-widgets/base",
      "model_module_version": "2.0.0",
      "model_name": "LayoutModel",
      "state": {
       "width": "190px"
      }
     },
     "419065d7e00b4ba89cbe8c55e9095cde": {
      "model_module": "@jupyter-widgets/base",
      "model_module_version": "2.0.0",
      "model_name": "LayoutModel",
      "state": {
       "width": "145px"
      }
     },
     "45be5270ba4646a7af758be0ae7f7b90": {
      "model_module": "@jupyter-widgets/controls",
      "model_module_version": "2.0.0",
      "model_name": "HBoxModel",
      "state": {
       "children": [
        "IPY_MODEL_1e72ba7a09ac4309b98fa312159e6f7d",
        "IPY_MODEL_f13a2fb45f9c43d796350a2873a762a1",
        "IPY_MODEL_05f503bf65594858be907d34d4f8f0d0",
        "IPY_MODEL_daf91dfd0e57421c81dd6a46c22950b3",
        "IPY_MODEL_6174514d64924338aefeaa0bed33a196"
       ],
       "layout": "IPY_MODEL_55ce65292f13444dacd4e719acd23a5d"
      }
     },
     "55ce65292f13444dacd4e719acd23a5d": {
      "model_module": "@jupyter-widgets/base",
      "model_module_version": "2.0.0",
      "model_name": "LayoutModel",
      "state": {
       "margin": "0px 0px 0px 37px",
       "width": "600px"
      }
     },
     "58f6d53c8ffd4dd3a5fc19af6fb97efc": {
      "model_module": "@jupyter-widgets/base",
      "model_module_version": "2.0.0",
      "model_name": "LayoutModel",
      "state": {
       "width": "95px"
      }
     },
     "6038c191fcd347c69f5be0fe94c5c62f": {
      "model_module": "@jupyter-widgets/controls",
      "model_module_version": "2.0.0",
      "model_name": "ButtonModel",
      "state": {
       "button_style": "primary",
       "description": "Clear",
       "layout": "IPY_MODEL_dc1e18dabc594f958bf7ae7d7475bec0",
       "style": "IPY_MODEL_097d11077b63406ebb56048b69366e61",
       "tooltip": null
      }
     },
     "6174514d64924338aefeaa0bed33a196": {
      "model_module": "@jupyter-widgets/controls",
      "model_module_version": "2.0.0",
      "model_name": "HTMLModel",
      "state": {
       "layout": "IPY_MODEL_99adf02ea9fe40d5ae59821b7a021c10",
       "style": "IPY_MODEL_36ed56b5ceaf4b3aa2f06e41c7803d1d",
       "value": "<h5>Message</h5>"
      }
     },
     "73f964c1c1b54220aac1520df979a6bb": {
      "model_module": "@jupyter-widgets/controls",
      "model_module_version": "2.0.0",
      "model_name": "HTMLStyleModel",
      "state": {
       "description_width": "",
       "font_size": null,
       "text_color": null
      }
     },
     "841e63a6d927402ca0f8a7316f638364": {
      "model_module": "@jupyter-widgets/controls",
      "model_module_version": "2.0.0",
      "model_name": "HTMLStyleModel",
      "state": {
       "description_width": "",
       "font_size": null,
       "text_color": null
      }
     },
     "8890aa339b394ad99565c4bff13518f5": {
      "model_module": "@jupyter-widgets/controls",
      "model_module_version": "2.0.0",
      "model_name": "HTMLModel",
      "state": {
       "layout": "IPY_MODEL_d54398d68ed94f9896bf8c3e073f73d5",
       "style": "IPY_MODEL_73f964c1c1b54220aac1520df979a6bb",
       "value": "<p style='font-family: IBM Plex Sans, Arial, Helvetica, sans-serif; font-size: 20px; font-weight: medium;'>Circuit Properties</p>"
      }
     },
     "99adf02ea9fe40d5ae59821b7a021c10": {
      "model_module": "@jupyter-widgets/base",
      "model_module_version": "2.0.0",
      "model_name": "LayoutModel",
      "state": {}
     },
     "b5cd2e18e9b6486e934dbc48882c9c2e": {
      "model_module": "@jupyter-widgets/base",
      "model_module_version": "2.0.0",
      "model_name": "LayoutModel",
      "state": {
       "grid_template_areas": "\n                                       \". . . . right \"\n                                        ",
       "grid_template_columns": "20% 20% 20% 20% 20%",
       "width": "100%"
      }
     },
     "d2cf1e36fee0416c8f97486cdc6edca2": {
      "model_module": "@jupyter-widgets/controls",
      "model_module_version": "2.0.0",
      "model_name": "HTMLStyleModel",
      "state": {
       "description_width": "",
       "font_size": null,
       "text_color": null
      }
     },
     "d54398d68ed94f9896bf8c3e073f73d5": {
      "model_module": "@jupyter-widgets/base",
      "model_module_version": "2.0.0",
      "model_name": "LayoutModel",
      "state": {
       "margin": "0px 0px 10px 0px"
      }
     },
     "daf91dfd0e57421c81dd6a46c22950b3": {
      "model_module": "@jupyter-widgets/controls",
      "model_module_version": "2.0.0",
      "model_name": "HTMLModel",
      "state": {
       "layout": "IPY_MODEL_38eb522e6aeb47f8ae4605542ae3db1a",
       "style": "IPY_MODEL_06e4a2fa493f4415bf0094938e3d86c9",
       "value": "<h5>Queue</h5>"
      }
     },
     "dc1e18dabc594f958bf7ae7d7475bec0": {
      "model_module": "@jupyter-widgets/base",
      "model_module_version": "2.0.0",
      "model_name": "LayoutModel",
      "state": {
       "grid_area": "right",
       "padding": "0px 0px 0px 0px",
       "width": "70px"
      }
     },
     "e406ec1b790b4219b771ecf1eac0c29a": {
      "model_module": "@jupyter-widgets/controls",
      "model_module_version": "2.0.0",
      "model_name": "GridBoxModel",
      "state": {
       "children": [
        "IPY_MODEL_6038c191fcd347c69f5be0fe94c5c62f"
       ],
       "layout": "IPY_MODEL_b5cd2e18e9b6486e934dbc48882c9c2e"
      }
     },
     "f13a2fb45f9c43d796350a2873a762a1": {
      "model_module": "@jupyter-widgets/controls",
      "model_module_version": "2.0.0",
      "model_name": "HTMLModel",
      "state": {
       "layout": "IPY_MODEL_419065d7e00b4ba89cbe8c55e9095cde",
       "style": "IPY_MODEL_841e63a6d927402ca0f8a7316f638364",
       "value": "<h5>Backend</h5>"
      }
     },
     "ff2c5d5131274ce99920d834eb1100d9": {
      "model_module": "@jupyter-widgets/controls",
      "model_module_version": "2.0.0",
      "model_name": "HTMLStyleModel",
      "state": {
       "description_width": "",
       "font_size": null,
       "text_color": null
      }
     }
    },
    "version_major": 2,
    "version_minor": 0
   }
  }
 },
 "nbformat": 4,
 "nbformat_minor": 5
}
