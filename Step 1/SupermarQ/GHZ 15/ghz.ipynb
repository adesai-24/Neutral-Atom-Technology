{
 "cells": [
  {
   "cell_type": "code",
   "execution_count": 12,
   "metadata": {},
   "outputs": [],
   "source": [
    "# 1/24/24 Greenberger-Horne-Zeilinger (GHZ) State 23 qubits\n",
    "# importing all required libraries\n",
    "import supermarq\n",
    "import qiskit\n",
    "import qiskit_superstaq as qss\n",
    "import os\n",
    "import json"
   ]
  },
  {
   "cell_type": "code",
   "execution_count": 3,
   "metadata": {},
   "outputs": [
    {
     "name": "stdout",
     "output_type": "stream",
     "text": [
      "8.00 credits\n"
     ]
    }
   ],
   "source": [
    "# connecting api key from my account to simulate the circuits\n",
    "api_key = \"1446224e1fed6a2d1408bf1e90180891c56dd33698d1d23e54f25044487108c2\"\n",
    "provider = qss.SuperstaqProvider(api_key)\n",
    "print(provider.get_balance())"
   ]
  },
  {
   "cell_type": "code",
   "execution_count": 10,
   "metadata": {},
   "outputs": [],
   "source": [
    "# defining which circuit I want to use and how many qubits\n",
    "qc = supermarq.ghz.GHZ(num_qubits=15)\n",
    "qc_circuit = qc.circuit()\n",
    "\n",
    "# setting the simulator that we will use to simulate our circuit (the default is ss_unconstrained_simulator)\n",
    "backend = provider.get_backend(\"ss_unconstrained_simulator\")\n",
    "job_qss = backend.run(\n",
    "    supermarq.converters.cirq_to_qiskit(qc_circuit), shots=1000, method=\"dry-run\"\n",
    ")"
   ]
  },
  {
   "cell_type": "code",
   "execution_count": 13,
   "metadata": {},
   "outputs": [
    {
     "name": "stdout",
     "output_type": "stream",
     "text": [
      "{'000000000000000': 481, '111111111111111': 519}\n",
      "0.9996388695848232\n"
     ]
    }
   ],
   "source": [
    "# gettng the results of the simulationg \n",
    "job = job_qss.result()\n",
    "\n",
    "# getting the counts and printing them\n",
    "counts = job.get_counts()\n",
    "print(counts)\n",
    "\n",
    "# measuring and getting fidelity of the result \n",
    "score = qc.score(counts)\n",
    "print(score)\n",
    "\n",
    "# logging results into a json file\n",
    "with open('mb_counts.json', 'w', encoding='utf-8') as f:\n",
    "    json.dump(counts, f, ensure_ascii=False, indent=4)\n"
   ]
  }
 ],
 "metadata": {
  "kernelspec": {
   "display_name": "venvS",
   "language": "python",
   "name": "python3"
  },
  "language_info": {
   "codemirror_mode": {
    "name": "ipython",
    "version": 3
   },
   "file_extension": ".py",
   "mimetype": "text/x-python",
   "name": "python",
   "nbconvert_exporter": "python",
   "pygments_lexer": "ipython3",
   "version": "3.10.12"
  }
 },
 "nbformat": 4,
 "nbformat_minor": 2
}
