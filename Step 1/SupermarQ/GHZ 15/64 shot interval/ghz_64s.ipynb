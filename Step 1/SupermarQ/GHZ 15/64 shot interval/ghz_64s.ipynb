{
 "cells": [
  {
   "cell_type": "code",
   "execution_count": 2,
   "metadata": {},
   "outputs": [],
   "source": [
    "# 3/3/24 Greenberger-Horne-Zeilinger (GHZ) State 23 qubits\n",
    "# importing all required libraries\n",
    "import supermarq\n",
    "import qiskit\n",
    "import qiskit_superstaq as qss\n",
    "import os\n",
    "import json"
   ]
  },
  {
   "cell_type": "code",
   "execution_count": 3,
   "metadata": {},
   "outputs": [
    {
     "name": "stdout",
     "output_type": "stream",
     "text": [
      "3.05 credits\n"
     ]
    }
   ],
   "source": [
    "# connecting api key from my account to simulate the circuits\n",
    "api_key = \"1446224e1fed6a2d1408bf1e90180891c56dd33698d1d23e54f25044487108c2\"\n",
    "provider = qss.SuperstaqProvider(api_key)\n",
    "# making sure to not run out of balance\n",
    "print(provider.get_balance())"
   ]
  },
  {
   "cell_type": "code",
   "execution_count": 4,
   "metadata": {},
   "outputs": [],
   "source": [
    "# defining which circuit I want to use and how many qubits\n",
    "qc = supermarq.ghz.GHZ(num_qubits=15)\n",
    "qc_circuit = qc.qiskit_circuit()"
   ]
  },
  {
   "cell_type": "code",
   "execution_count": 13,
   "metadata": {},
   "outputs": [
    {
     "name": "stdout",
     "output_type": "stream",
     "text": [
      "{'000000000000000': 481, '111111111111111': 519}\n",
      "0.9996388695848232\n"
     ]
    }
   ],
   "source": [
    "# setting the shot interval\n",
    "x = 64\n",
    "\n",
    "# setting up a simple while loop\n",
    "while x<= 1024:\n",
    "    \n",
    "    # setting the simulator that we will use to simulate our circuit (the default is ss_unconstrained_simulator)\n",
    "    backend = provider.get_backend(\"ibmq_statevector_simulator\")\n",
    "    job_qss = backend.run(qc_circuit, shots=x, method=\"dry-run\")\n",
    "\n",
    "\n",
    "    # gettng the results of the simulationg \n",
    "    job = job_qss.result()\n",
    "\n",
    "    # getting the counts and printing them\n",
    "    counts = job.get_counts()\n",
    "    \n",
    "\n",
    "    # logging results into a json file\n",
    "    with open('ghz_counts.json', 'w', encoding='utf-8') as f:\n",
    "        json.dump(counts, f, ensure_ascii=False, indent=4)\n",
    "\n",
    "# measuring and getting fidelity of the result       \n",
    "score = qc.score(counts)\n",
    "print(score)\n",
    "print(counts)\n",
    "\n",
    "# plotting a bar chart of the benchmark results\n",
    "supermarq.plotting.plot_results([counts])\n"
   ]
  }
 ],
 "metadata": {
  "kernelspec": {
   "display_name": "venvS",
   "language": "python",
   "name": "python3"
  },
  "language_info": {
   "codemirror_mode": {
    "name": "ipython",
    "version": 3
   },
   "file_extension": ".py",
   "mimetype": "text/x-python",
   "name": "python",
   "nbconvert_exporter": "python",
   "pygments_lexer": "ipython3",
   "version": "3.10.12"
  }
 },
 "nbformat": 4,
 "nbformat_minor": 2
}
