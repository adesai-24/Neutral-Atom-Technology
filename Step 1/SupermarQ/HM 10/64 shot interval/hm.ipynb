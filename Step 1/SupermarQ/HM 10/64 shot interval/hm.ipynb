{
 "cells": [
  {
   "cell_type": "code",
   "execution_count": 10,
   "metadata": {},
   "outputs": [],
   "source": [
    "# 3/3/24 Hamiltonian Bell 10 qubits\n",
    "# importing all required libraries\n",
    "import supermarq\n",
    "import qiskit\n",
    "import qiskit_superstaq as qss\n",
    "from qiskit.visualization import plot_histogram\n",
    "import os\n",
    "import json\n",
    "import numpy as np\n",
    "import matplotlib.pyplot as plt\n",
    "\n",
    "# defining all the variables here\n",
    "Q = 10 # number of qubits\n",
    "x = 64 # defining shot increment\n",
    "nc = x # setting unchanging value for the loop\n",
    "time = 30 # setting the normalization value\n",
    "filename = \"hm\" # setting universal filename to avoid having to set differently\n",
    "foldername = \"HM \" + str(Q) # setting universal folder name to avoid having to change it anywhere else\n",
    "benchmark = \"SupermarQ\" # setting universal benchmark name to avoid having to change it everywhere else\n",
    "bs_var_dict = {} # empty dict to hold all values of bs_var to see how it changes over time\n",
    "p_var_dict = {} # empty dict to hold all vaues of p_var to see how it changes over time\n",
    "score_dict = {} # dict that will observe the score at each shot interval\n",
    "\n",
    "\n",
    "\n",
    "# added variance function instead of having to run it together\n",
    "def variance(shots, b_name, fo_name, f_name):\n",
    "    # load the output distribution from the json file\n",
    "    file_path = '/home/aadi/Documents/Neutral-Atom-Technology/Step 1/' + str(b_name) + '/' + str(fo_name) + '/64 shot interval/' + str(f_name) + '_counts_' + str(shots) + '_shots.json' \n",
    "    with open(file_path, 'r') as file:\n",
    "        output_distribution = json.load(file)\n",
    "\n",
    "    # convert the dictionary keys to a list and probabilities to a separate list\n",
    "    states = list(output_distribution.keys())\n",
    "    probabilities = list(output_distribution.values())\n",
    "\n",
    "    # this sets the probability values to 1 instead of the shot number\n",
    "    probabilities = [x/shots for x in probabilities]\n",
    "    \n",
    "    # random sampling of basis states based on probability and setting them equal to a list\n",
    "    sample = np.random.choice(states, size=shots, p=probabilities)\n",
    "\n",
    "    # random sampling of the probabilites list based on probabilty and setting them equal to a list\n",
    "    prob_sample = np.random.choice(probabilities, size=shots, p=probabilities)\n",
    "\n",
    "    # change binary to ints\n",
    "    int_sample = [int(b, 2) for b in sample]\n",
    "    # int_sample = [int(b.replace(\" \", \"\"), 2) for b in sample]\n",
    "\n",
    "    # calculating the variance and printing out the results\n",
    "    sample_var = np.var(int_sample)\n",
    "    # print(\"The sample variance is: \" + str(sample_var))\n",
    "    prob_var = np.var(prob_sample)\n",
    "    # print(\"The sample variance using probability is : \" + str(prob_var))\n",
    "    \n",
    "    \n",
    "    return int(sample_var), prob_var"
   ]
  },
  {
   "cell_type": "code",
   "execution_count": 11,
   "metadata": {},
   "outputs": [
    {
     "name": "stdout",
     "output_type": "stream",
     "text": [
      "18.90 credits\n"
     ]
    }
   ],
   "source": [
    "# connecting api key from my account to simulate the circuits\n",
    "api_key = \"58a48c49491d13be9473312f6dacda50486604f21483b9bf9bfb6751f9e8f109\"\n",
    "provider = qss.SuperstaqProvider(api_key)\n",
    "# making sure to not run out of balance\n",
    "print(provider.get_balance())"
   ]
  },
  {
   "cell_type": "code",
   "execution_count": 12,
   "metadata": {},
   "outputs": [
    {
     "name": "stdout",
     "output_type": "stream",
     "text": [
      "{'64': 32675, '128': 44980, '192': 43946, '256': 45713, '320': 42882, '384': 42509, '448': 45324, '512': 41184, '576': 47481, '640': 46014, '704': 40292, '768': 46456, '832': 46887, '896': 41462, '960': 44938, '1024': 43735}\n",
      "{'64': 0.0029742379983266195, '128': 0.006461468959848086, '192': 0.007771489183598586, '256': 0.003865946635293464, '320': 0.004552629346847534, '384': 0.00603921176566754, '448': 0.0040548818236868294, '512': 0.009868563467656107, '576': 0.006542491045859641, '640': 0.004412638050715128, '704': 0.004015876324459104, '768': 0.006303748865075288, '832': 0.006754028542197073, '896': 0.005139111143728353, '960': 0.006687059541396151, '1024': 0.006191262522133911}\n"
     ]
    }
   ],
   "source": [
    "# defining which circuit I want to use and how many qubits\n",
    "qc = supermarq.hamiltonian_simulation.HamiltonianSimulation(num_qubits=Q)\n",
    "qc_circuit = qc.qiskit_circuit()\n",
    "\n",
    "\n",
    "\n",
    "# simple while loop to calculate \n",
    "while x <= 1024:\n",
    "    \n",
    "    bs_var = 0 # variance using basis states converted into integers\n",
    "    p_var = 0 # variance using probability \n",
    "    avg_bs_var = 0 # variable to calculate average variance of basis state \n",
    "    avg_p_var = 0 # variable to calculate average variance of proabilty\n",
    "\n",
    "    # executing the circuit via backend\n",
    "    backend = provider.get_backend(\"ibmq_statevector_simulator\")\n",
    "    job_qss = backend.run(qc_circuit, shots=x, method=\"dry-run\")\n",
    "\n",
    "    # gettng the results of the simulationg \n",
    "    job = job_qss.result()\n",
    "\n",
    "    # getting the counts and printing them\n",
    "    counts = job.get_counts()\n",
    "    # print(\"\\n\"counts)\n",
    "\n",
    "    # measuring and getting accuracy of the result (like R^2 the closer to 1.0, the most faithful prediciton)\n",
    "    score = qc.score(counts)\n",
    "    \n",
    "    # adding the score for each count and adding it to a list to later graph\n",
    "    score_dict[str(int(x))] = score\n",
    "    \n",
    "\n",
    "    # printing shot number to follow along\n",
    "    # print(str(x))\n",
    "\n",
    "    # logging the counts to a json file\n",
    "    with open(filename + '_counts_' + str(int(x)) + '_shots.json', 'w', encoding='utf-8') as f:\n",
    "        json.dump(counts, f, ensure_ascii=False, indent=4)\n",
    "\n",
    "    # calculating the variance and normalizing it by running it 30 times and averaging it\n",
    "    for t in range(1, time+1):\n",
    "        temp_bs_var, temp_p_var = variance(int(x), benchmark, foldername, filename)\n",
    "        bs_var += temp_bs_var\n",
    "        p_var += temp_p_var\n",
    "        avg_bs_var = int(bs_var / t)\n",
    "        avg_p_var = p_var / t\n",
    "\n",
    "    \n",
    "    # adding the variance to the appropriate shot interval number\n",
    "    bs_var_dict[str(int(x))] = avg_bs_var\n",
    "    p_var_dict[str(int(x))] = avg_p_var\n",
    "\n",
    "    # print(\"\\nThe average variance using probability is: \" + str(avg_p_var))\n",
    "    # print(\"The average variance using basis state converted to integers is: \" + str(avg_bs_var))\n",
    "\n",
    "    # moving up an increment\n",
    "    x += nc\n",
    "\n",
    "print(bs_var_dict)\n",
    "print(p_var_dict)\n",
    "\n",
    "# setting the simulator that we will use to simulate our circuit (the default is ss_unconstrained_simulator)\n"
   ]
  },
  {
   "cell_type": "code",
   "execution_count": 4,
   "metadata": {},
   "outputs": [
    {
     "name": "stdout",
     "output_type": "stream",
     "text": [
      "{'0110111000': 1, '1110101100': 1, '1111101100': 2, '1110111100': 1, '1011111100': 2, '0111111100': 2, '1111111100': 7, '1110110010': 2, '0111110010': 1, '1111110010': 4, '1111101010': 1, '1011111010': 1, '0111111010': 3, '1111111010': 6, '1111100110': 1, '1110110110': 2, '0101110110': 1, '1101110110': 2, '1011110110': 1, '0111110110': 2, '1111110110': 5, '1011001110': 1, '1111001110': 3, '1010101110': 1, '1110101110': 2, '1101101110': 1, '1111101110': 4, '1110011110': 3, '1101011110': 1, '1111011110': 6, '1100111110': 1, '1010111110': 1, '1110111110': 6, '1001111110': 1, '1101111110': 4, '1011111110': 5, '0111111110': 3, '1111111110': 40, '1111100001': 1, '1111010001': 1, '1110110001': 2, '1101110001': 1, '0111110001': 2, '0111101001': 1, '1111011001': 1, '0110111001': 1, '1110111001': 1, '0101111001': 1, '1101111001': 1, '0111111001': 1, '1111111001': 4, '0111100101': 1, '1111100101': 1, '1111010101': 2, '1100110101': 1, '0110110101': 1, '1110110101': 1, '1101110101': 1, '1011110101': 2, '0111110101': 1, '1111110101': 12, '1011001101': 1, '1100101101': 1, '1010101101': 1, '1110101101': 2, '1101101101': 4, '0111101101': 3, '1111101101': 7, '1111011101': 4, '1010111101': 1, '0110111101': 1, '1110111101': 6, '0001111101': 1, '1001111101': 1, '0101111101': 2, '1101111101': 9, '0011111101': 1, '1011111101': 8, '0111111101': 8, '1111111101': 38, '1100100011': 1, '1101010011': 1, '0111010011': 1, '1111010011': 4, '1110110011': 1, '0011110011': 1, '1011110011': 3, '0111110011': 2, '1111110011': 7, '1001101011': 1, '1101101011': 1, '1011101011': 1, '0111101011': 1, '1111101011': 7, '1010011011': 1, '0110011011': 1, '1110011011': 2, '1011011011': 3, '1111011011': 7, '1100111011': 2, '1010111011': 1, '0110111011': 2, '1110111011': 9, '1001111011': 1, '1101111011': 8, '0011111011': 2, '1011111011': 8, '0111111011': 11, '1111111011': 37, '0111000111': 1, '1101100111': 2, '1011100111': 1, '0111100111': 1, '1111100111': 8, '1010010111': 1, '1101010111': 1, '1011010111': 1, '0111010111': 1, '1111010111': 3, '1010110111': 1, '0110110111': 1, '1110110111': 6, '1001110111': 1, '0101110111': 2, '1101110111': 3, '1011110111': 7, '0111110111': 8, '1111110111': 25, '1110001111': 2, '0001001111': 1, '0101001111': 1, '0011001111': 1, '1011001111': 1, '1111001111': 8, '1100101111': 1, '1010101111': 1, '0110101111': 1, '1110101111': 9, '1001101111': 2, '0101101111': 2, '1101101111': 5, '0011101111': 1, '1011101111': 8, '0111101111': 4, '1111101111': 34, '1100011111': 1, '1010011111': 2, '0110011111': 2, '1110011111': 8, '0101011111': 2, '1101011111': 7, '1011011111': 6, '0111011111': 10, '1111011111': 31, '0100111111': 1, '1100111111': 4, '1010111111': 5, '0110111111': 6, '1110111111': 33, '0001111111': 2, '1001111111': 8, '0101111111': 7, '1101111111': 43, '0011111111': 5, '1011111111': 39, '0111111111': 43, '1111111111': 205}\n",
      "0.9975963593432746\n"
     ]
    },
    {
     "data": {
      "image/png": "[encoded data removed]",
      "text/plain": [
       "<Figure size 960x720 with 1 Axes>"
      ]
     },
     "metadata": {},
     "output_type": "display_data"
    }
   ],
   "source": [
    "# bar graph of the accuracy during each shot interval\n",
    "shots = list(score_dict.keys())\n",
    "accuracy = list(score_dict.values())\n",
    "\n",
    "# setting the plot size\n",
    "fig = plt.figure(figsize = (10, 5))\n",
    "\n",
    "# creating the bar plot\n",
    "plt.bar(shots, accuracy, color ='green', \n",
    "        width = 0.4)\n",
    "\n",
    "# labeling the plot appropriately \n",
    "plt.xlabel(\"Shots\")\n",
    "plt.ylabel(\"Accuracy\")\n",
    "plt.title(\"Accuracy per shot interval of \" + foldername + \" Quantum Circuit\")\n",
    "plt.show()"
   ]
  },
  {
   "cell_type": "code",
   "execution_count": null,
   "metadata": {},
   "outputs": [],
   "source": [
    "# splitting by counts and variance of probability dictionary\n",
    "shots = list(p_var_dict.keys())\n",
    "variance = list(p_var_dict.values())\n",
    "\n",
    "# setting the plot size\n",
    "fig = plt.figure(figsize = (10, 5))\n",
    "\n",
    "# creating the bar plot\n",
    "plt.bar(shots, variance, color ='blue', \n",
    "        width = 0.4)\n",
    "\n",
    "# labeling the plot appropriately \n",
    "plt.xlabel(\"Shots\")\n",
    "plt.ylabel(\"Variance\")\n",
    "plt.title(\"Probability Variance per shot interval of \" + foldername + \" qubits\")\n",
    "plt.show()"
   ]
  },
  {
   "cell_type": "code",
   "execution_count": null,
   "metadata": {},
   "outputs": [],
   "source": [
    "# splitting by counts and variance of probability dictionary\n",
    "shots = list(bs_var_dict.keys())\n",
    "variance = list(bs_var_dict.values())\n",
    "\n",
    "# setting the plot size\n",
    "fig = plt.figure(figsize = (10, 5))\n",
    "\n",
    "# creating the bar plot\n",
    "plt.bar(shots, variance, color ='red', \n",
    "        width = 0.4)\n",
    "\n",
    "# labeling the plot appropriately \n",
    "plt.xlabel(\"Shots\")\n",
    "plt.ylabel(\"Variance\")\n",
    "plt.title(\"Basis State Variance per shot interval of \" + foldername + \" qubits\")\n",
    "plt.show()"
   ]
  }
 ],
 "metadata": {
  "kernelspec": {
   "display_name": "SupermarQ",
   "language": "python",
   "name": "python3"
  },
  "language_info": {
   "codemirror_mode": {
    "name": "ipython",
    "version": 3
   },
   "file_extension": ".py",
   "mimetype": "text/x-python",
   "name": "python",
   "nbconvert_exporter": "python",
   "pygments_lexer": "ipython3",
   "version": "3.10.12"
  }
 },
 "nbformat": 4,
 "nbformat_minor": 2
}
